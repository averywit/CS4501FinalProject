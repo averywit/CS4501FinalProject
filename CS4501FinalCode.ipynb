{
 "cells": [
  {
   "cell_type": "code",
   "execution_count": 102,
   "id": "d2178082",
   "metadata": {
    "scrolled": true
   },
   "outputs": [
    {
     "name": "stdout",
     "output_type": "stream",
     "text": [
      "Collecting package metadata (current_repodata.json): done\n",
      "Solving environment: done\n",
      "\n",
      "# All requested packages already installed.\n",
      "\n",
      "Collecting package metadata (current_repodata.json): done\n",
      "Solving environment: done\n",
      "\n",
      "# All requested packages already installed.\n",
      "\n",
      "Collecting package metadata (current_repodata.json): done\n",
      "Solving environment: done\n",
      "\n",
      "# All requested packages already installed.\n",
      "\n"
     ]
    }
   ],
   "source": [
    "# Installing packages and initializing environment required for program below\n",
    "# Package 1: Selenium, used to interact with the browser\n",
    "# Package 2: ChromeDriver, used to open and create Google Chrome browser to operate with\n",
    "# Package 3: ONNXRuntime, used as a machine learning model to simulate neural hash of images\n",
    "# Package 4: Pillow (Python Imaging Library), used to modify the inserted images\n",
    "# Package 5: OpenCV, used to select the first frame of a video and save it\n",
    "\n",
    "import time\n",
    "import sys \n",
    "!conda install --yes --prefix {sys.prefix} selenium\n",
    "!conda install --yes --prefix {sys.prefix} chromedriver-binary\n",
    "!conda install --yes --prefix {sys.prefix} opencv\n",
    "#!conda install --yes --prefix {sys.prefix} onnxruntime\n",
    "#!conda install --yes --prefix {sys.prefix} pillow"
   ]
  },
  {
   "cell_type": "code",
   "execution_count": 103,
   "id": "f2b3afac",
   "metadata": {},
   "outputs": [
    {
     "name": "stdout",
     "output_type": "stream",
     "text": [
      "Please enter video link you want to download: https://www.instagram.com/reel/CXvzcVfO-N4/?utm_source=ig_web_copy_link\n"
     ]
    }
   ],
   "source": [
    "# Creating and opening a Google Chrome browser, downloading the video link\n",
    "link = input(\"Please enter video link you want to download: \")\n",
    "\n",
    "from selenium import webdriver\n",
    "from webdriver_manager.chrome import ChromeDriverManager\n",
    "from selenium.webdriver.chrome.service import Service\n",
    "from selenium.webdriver.chrome.options import Options\n",
    "from selenium.webdriver.common.by import By\n",
    "\n",
    "serv = Service(\"/Users/avery/.wdm/drivers/chromedriver/mac64/96.0.4664.45/chromedriver\")\n",
    "chrome_options = Options()\n",
    "driver = webdriver.Chrome(service=serv, options=chrome_options)\n",
    "\n",
    "if(link.find(\"www.tiktok.com\") != -1):\n",
    "    driver.get(\"https://snaptik.app/\")\n",
    "    driver.find_element(By.ID, \"url\").send_keys(link)\n",
    "    driver.find_element(By.ID, \"submiturl\").click()\n",
    "    time.sleep(7)\n",
    "    driver.find_element(By.PARTIAL_LINK_TEXT, \"Download Server 02 (SnapTik)\").click()\n",
    "    time.sleep(7)\n",
    "    driver.quit()\n",
    "    \n",
    "else:\n",
    "    driver.get(\"https://snapinsta.app/\")\n",
    "    driver.find_element(By.ID, \"url\").send_keys(link)\n",
    "    driver.find_element(By.ID, \"send\").click()\n",
    "    time.sleep(7)\n",
    "    driver.find_element(By.PARTIAL_LINK_TEXT, \"Download Video\").click()\n",
    "    time.sleep(7)\n",
    "    driver.quit()"
   ]
  },
  {
   "cell_type": "code",
   "execution_count": 92,
   "id": "ca407d27",
   "metadata": {
    "scrolled": true
   },
   "outputs": [
    {
     "name": "stdout",
     "output_type": "stream",
     "text": [
      "Please enter original video's file name: SnapInsta_269042669_484933576593588_3726858475770358233_n.mp4\n",
      "The selection 1 has been recorded!\n"
     ]
    }
   ],
   "source": [
    "# Randomly selecting whether or not the video is modified for the post\n",
    "import cv2\n",
    "import numpy as np\n",
    "import random\n",
    "\n",
    "magic8 = random.randrange(2)\n",
    "if(magic8 == 1):\n",
    "    regular = \"/Users/avery/Downloads/\" + input(\"Please enter original video's file name: \")\n",
    "    # Code modified and utilized from https://stackoverflow.com/questions/29317262/opencv-video-saving-in-python to flip the video\n",
    "    cap = cv2.VideoCapture(regular)\n",
    "    height = int(cap.get(cv2.CAP_PROP_FRAME_HEIGHT))\n",
    "    width = int(cap.get(cv2.CAP_PROP_FRAME_WIDTH))\n",
    "    fourcc = cv2.VideoWriter_fourcc(*'mp4v')\n",
    "    out = cv2.VideoWriter('mirrored.mp4', fourcc, 30.0, (width,height))\n",
    "    while(cap.isOpened()):\n",
    "        ret, frame = cap.read()\n",
    "        if(ret==True):\n",
    "            # Mirrors the frame on the x-axis\n",
    "            frame = cv2.flip(frame,1)\n",
    "            out.write(frame)\n",
    "            if(cv2.waitKey(1) & 0xFF == ord('q')):\n",
    "                break\n",
    "        else:\n",
    "            break\n",
    "    cap.release()\n",
    "    out.release()\n",
    "    cv2.destroyAllWindows()\n",
    "    mirrored = \"/Users/avery/Downloads/mirrored.mp4\"\n",
    "else:\n",
    "    pass\n",
    "\n",
    "# Writing outputting result into a text file\n",
    "selection = open(\"selection.txt\", \"w\")\n",
    "selection.write(str(magic8))\n",
    "selection.close()\n",
    "print(\"The selection \" + str(magic8) + \" has been recorded!\")"
   ]
  },
  {
   "cell_type": "code",
   "execution_count": 106,
   "id": "4a0636b8",
   "metadata": {},
   "outputs": [
    {
     "name": "stdout",
     "output_type": "stream",
     "text": [
      "Please enter original video's file name: SnapInsta_269042669_484933576593588_3726858475770358233_n.mp4\n"
     ]
    }
   ],
   "source": [
    "# Comparing the hash of two videos\n",
    "regular = \"/Users/avery/Downloads/\" + input(\"Please enter original video's file name: \")\n",
    "\n",
    "# Code modified and utilized from https://stackoverflow.com/questions/29317262/opencv-video-saving-in-python to flip the video\n",
    "cap = cv2.VideoCapture(regular)\n",
    "height = int(cap.get(cv2.CAP_PROP_FRAME_HEIGHT))\n",
    "width = int(cap.get(cv2.CAP_PROP_FRAME_WIDTH))\n",
    "fourcc = cv2.VideoWriter_fourcc(*'mp4v')\n",
    "out = cv2.VideoWriter('mirrored.mp4', fourcc, 30.0, (width,height))\n",
    "while(cap.isOpened()):\n",
    "    ret, frame = cap.read()\n",
    "    if(ret==True):\n",
    "        # Mirrors the frame on the x-axis\n",
    "        frame = cv2.flip(frame,1)\n",
    "        out.write(frame)\n",
    "        if(cv2.waitKey(1) & 0xFF == ord('q')):\n",
    "            break\n",
    "    else:\n",
    "        break\n",
    "cap.release()\n",
    "out.release()\n",
    "cv2.destroyAllWindows()\n",
    "mirrored = \"/Users/avery/Downloads/mirrored.mp4\"\n",
    "\n",
    "# Capturing the first frame of both the regular and mirrored video to compare neural hash\n",
    "vidcap = cv2.VideoCapture(regular)\n",
    "success,image = vidcap.read()\n",
    "cv2.imwrite(\"regularframe.jpg\", image)\n",
    "vidcap = cv2.VideoCapture(mirrored)\n",
    "success,image = vidcap.read()\n",
    "cv2.imwrite(\"mirroredframe.jpg\", image)\n",
    "\n",
    "# Utilizing the first frame of the regular and mirrored video for the neural hash comparison\n",
    "regularframe = \"/Users/avery/Downloads/regularframe.jpg\"\n",
    "mirroredframe = \"/Users/avery/Downloads/mirroredframe.jpg\""
   ]
  },
  {
   "cell_type": "markdown",
   "id": "3117dba0",
   "metadata": {},
   "source": [
    "# Code originally used to compare hashes resulting from NeuralHash\n",
    "#Open source code referenced from https://github.com/AsuharietYgvar/AppleNeuralHash2ONNX/blob/master/nnhash.py\n",
    "import onnxruntime\n",
    "import numpy as np\n",
    "from PIL import Image\n",
    "\n",
    "#Load ONNX model\n",
    "session = onnxruntime.InferenceSession(sys.argv[1])\n",
    "\n",
    "#Load output hash matrix\n",
    "seed1 = open(sys.argv[2], 'rb').read()[128:]\n",
    "seed1 = np.frombuffer(seed1, dtype=np.float32)\n",
    "seed1 = seed1.reshape([96, 128])\n",
    "\n",
    "#Preprocess image\n",
    "image = Image.open(sys.argv[3]).convert('RGB')\n",
    "image = image.resize([360, 360])\n",
    "arr = np.array(image).astype(np.float32) / 255.0\n",
    "arr = arr * 2.0 - 1.0\n",
    "arr = arr.transpose(2, 0, 1).reshape([1, 3, 360, 360])\n",
    "\n",
    "#Run model\n",
    "inputs = {session.get_inputs()[0].name: arr}\n",
    "outs = session.run(None, inputs)\n",
    "\n",
    "#Convert model output to hex hash\n",
    "hash_output = seed1.dot(outs[0].flatten())\n",
    "hash_bits = ''.join(['1' if it >= 0 else '0' for it in hash_output])\n",
    "hash_hex = '{:0{}x}'.format(int(hash_bits, 2), len(hash_bits) // 4)\n",
    "print(hash_hex)"
   ]
  },
  {
   "cell_type": "code",
   "execution_count": 104,
   "id": "94b01860",
   "metadata": {},
   "outputs": [
    {
     "data": {
      "image/png": "[encoded data removed]",
      "text/plain": [
       "<Figure size 432x288 with 1 Axes>"
      ]
     },
     "metadata": {
      "needs_background": "light"
     },
     "output_type": "display_data"
    }
   ],
   "source": [
    "# Utilizing Instagram profile for engagement and creating visual graphs\n",
    "import pandas as pd\n",
    "import matplotlib.pyplot as plt\n",
    "from matplotlib.pyplot import figure\n",
    "\n",
    "selection = open(\"selection.txt\")\n",
    "output = selection.read()\n",
    "index = [\"Post 1\",\"Post 2\",\"Post 3\",\"Post 4\",\"Post 5\",\"Post 6\",\"Post 7\",\"Post 8\",\"Post 9\",\"Post 10\",\"Post 11\",\"Post 12\"]\n",
    "df = pd.DataFrame({\"Views\": [1848069, 50626, 229358, 28363, 2472605, 50269, 373530, 24461, 30531, 31915, 18645, 38025], \n",
    "                   \"Likes\": [82001, 1587, 7767, 1823, 143325, 1330, 9062, 1120, 964, 1594, 1178, 2084],\n",
    "                   \"Comments\": [74, 3, 70, 18, 197, 0, 4, 7, 39, 11, 20, 4],\n",
    "                   \"Shares\": [938, 10, 334, 35, 4004, 12, 94, 19, 101, 66, 140, 12],\n",
    "                   \"Saves\": [1537, 72, 231, 99, 5168, 57, 128, 134, 57, 92, 133, 55],\n",
    "                   \"Modified\": [output[0], output[1], output[2], output[3], output[4], output[5], output[6], output[7], output[8], output[9], output[10], output[11]]}, index = index)\n",
    "selection.close()\n",
    "df.plot.bar()\n",
    "plt.title('Combined Posts')\n",
    "plt.xlabel('Post Number')\n",
    "plt.ylabel('Total Engagement (Million)')\n",
    "plt.show()"
   ]
  },
  {
   "cell_type": "code",
   "execution_count": 105,
   "id": "e1585b74",
   "metadata": {},
   "outputs": [
    {
     "data": {
      "image/png": "[encoded data removed]",
      "text/plain": [
       "<Figure size 432x288 with 1 Axes>"
      ]
     },
     "metadata": {
      "needs_background": "light"
     },
     "output_type": "display_data"
    },
    {
     "data": {
      "image/png": "[encoded data removed]",
      "text/plain": [
       "<Figure size 432x288 with 1 Axes>"
      ]
     },
     "metadata": {
      "needs_background": "light"
     },
     "output_type": "display_data"
    }
   ],
   "source": [
    "df1 = df.groupby([\"Modified\"])\n",
    "df1.plot.bar()\n",
    "plt.title('Modified Posts')\n",
    "plt.xlabel('Post Number')\n",
    "plt.ylabel('Total Engagement (Million)')\n",
    "plt.show()"
   ]
  },
  {
   "cell_type": "code",
   "execution_count": null,
   "id": "ad9aed6b",
   "metadata": {},
   "outputs": [],
   "source": []
  }
 ],
 "metadata": {
  "celltoolbar": "Raw Cell Format",
  "kernelspec": {
   "display_name": "Python 3 (ipykernel)",
   "language": "python",
   "name": "python3"
  },
  "language_info": {
   "codemirror_mode": {
    "name": "ipython",
    "version": 3
   },
   "file_extension": ".py",
   "mimetype": "text/x-python",
   "name": "python",
   "nbconvert_exporter": "python",
   "pygments_lexer": "ipython3",
   "version": "3.9.7"
  }
 },
 "nbformat": 4,
 "nbformat_minor": 5
}
